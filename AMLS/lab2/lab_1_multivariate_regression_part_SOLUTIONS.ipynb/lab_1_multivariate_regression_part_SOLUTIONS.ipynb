{
 "cells": [
  {
   "cell_type": "markdown",
   "metadata": {},
   "source": [
    "#  Lab 1: Regression \n",
    "## Multivariate Regression"
   ]
  },
  {
   "cell_type": "markdown",
   "metadata": {},
   "source": [
    "In this notebook we are going to implement multivariate regression. In particular, you will have to:\n",
    "\n",
    "* Complete the function `multilinearNEWRegrPredict` to implement multivariate regression algorithm.\n",
    "* Use the previous `SSR` function on the estimates and the true labels.\n"
   ]
  },
  {
   "cell_type": "markdown",
   "metadata": {},
   "source": [
    "# Import libraries"
   ]
  },
  {
   "cell_type": "markdown",
   "metadata": {},
   "source": [
    "The required libraries for this notebook are pandas, sklearn and numpy."
   ]
  },
  {
   "cell_type": "code",
   "execution_count": 1,
   "metadata": {},
   "outputs": [],
   "source": [
    "# import libraries\n",
    "import pandas\n",
    "import numpy as np\n",
    "from sklearn.linear_model import LinearRegression\n",
    "from sklearn.model_selection import train_test_split"
   ]
  },
  {
   "cell_type": "markdown",
   "metadata": {},
   "source": [
    "# Load the data\n",
    "The data we are using is from ***multi_regr_data.csv***. It consists of 1000 data related to student marks. Each data point has 3 columns(marks) and we are going to use all of them for multivariate linear regression. In particular, we will use the first 2 marks to predict the 3rd mark."
   ]
  },
  {
   "cell_type": "code",
   "execution_count": 2,
   "metadata": {},
   "outputs": [
    {
     "name": "stdout",
     "output_type": "stream",
     "text": [
      "(1000, 3)\n"
     ]
    }
   ],
   "source": [
    "# Loading the CSV file\n",
    "dataset=pandas.read_csv('./datasets/multi_regr_data.csv')\n",
    "print(dataset.shape) #(data_number,feature_number)"
   ]
  },
  {
   "cell_type": "markdown",
   "metadata": {},
   "source": [
    "# Split data into training and testing"
   ]
  },
  {
   "cell_type": "code",
   "execution_count": 3,
   "metadata": {},
   "outputs": [
    {
     "name": "stdout",
     "output_type": "stream",
     "text": [
      "(750, 2)\n",
      "(250, 2)\n"
     ]
    }
   ],
   "source": [
    "# Split the data, we will use first 2 columns as features and the 3rd columns as target.\n",
    "X = dataset[list(dataset.columns)[:-1]]\n",
    "#print(X.shape)\n",
    "Y = dataset[list(dataset.columns)[-1]] \n",
    "#print(Y.shape)\n",
    "# Split the data into training and testing(75% training and 25% testing data)\n",
    "xtrain,xtest,ytrain,ytest=train_test_split(X, Y, random_state=0)\n",
    "print(xtrain.shape)\n",
    "print(xtest.shape)"
   ]
  },
  {
   "cell_type": "markdown",
   "metadata": {},
   "source": [
    "# Use multivariate linear regression from a library"
   ]
  },
  {
   "cell_type": "markdown",
   "metadata": {},
   "source": [
    "We will first see how multivariate linear regression can be implemented using already available functions from the scikit-learn library."
   ]
  },
  {
   "cell_type": "code",
   "execution_count": 4,
   "metadata": {},
   "outputs": [
    {
     "name": "stdout",
     "output_type": "stream",
     "text": [
      "[0.08986326 0.92350445]\n",
      "For the true target:  25\n",
      "We predict as:  20.603310452986527\n",
      "Overall Accuracy Score from library implementation: 0.9112675801400184\n"
     ]
    }
   ],
   "source": [
    "# sklearn functions implementation\n",
    "def multilinearRegrPredict(xtrain, ytrain,xtest ):\n",
    "    # Create linear regression object\n",
    "    reg=LinearRegression()\n",
    "    # Train the model using the training sets\n",
    "    reg.fit(xtrain,ytrain)\n",
    "    \n",
    "    print(reg.coef_)\n",
    "    # Make predictions using the testing set\n",
    "    y_pred = reg.predict(xtest)\n",
    "    # See how good it works in test data, \n",
    "    # we print out one of the true target and its estimate\n",
    "    print('For the true target: ',list(ytest)[-1])\n",
    "    print('We predict as: ', list(y_pred)[-1]) # print out the \n",
    "    print(\"Overall Accuracy Score from library implementation:\", reg.score(xtest, ytest)) #.score(Predicted value, Y axis of Test data) methods returns the Accuracy Score or how much percentage the predicted value and the actual value matches\n",
    "\n",
    "    return y_pred\n",
    "\n",
    "y_pred = multilinearRegrPredict(xtrain, ytrain, xtest )\n",
    "\n"
   ]
  },
  {
   "cell_type": "markdown",
   "metadata": {},
   "source": [
    "# Implement your own multivariate linear regression function "
   ]
  },
  {
   "cell_type": "markdown",
   "metadata": {},
   "source": [
    "You are supposed to complete the `multiLinparamEstimates(xtrain, ytrain)` function that estimates beta as follows:\n",
    "\n",
    "\\begin{align}\n",
    "\\hat{\\beta} & = \\left(X^T X \\right)^{-1} X^Ty\n",
    "\\end{align}\n",
    "\n",
    "You are asked to complete the `multilinearNEWRegrPredict(xtrain, ytrain,xtest)` function, or write your own, that returns the output variable y given the input varables.\n",
    "\n",
    "***Remember that this time we train on `xtrain` and `ytrain`!***"
   ]
  },
  {
   "cell_type": "code",
   "execution_count": 5,
   "metadata": {},
   "outputs": [],
   "source": [
    "\n",
    "def multiLinparamEstimates(xtrain, ytrain):  \n",
    "    # Q: why need 'intercept'?\n",
    "    intercept = np.ones((xtrain.shape[0], 1))\n",
    "    print(xtrain.shape)\n",
    "    xtrain = np.concatenate((intercept, xtrain), axis=1)\n",
    "    print(xtrain.shape)\n",
    "    \n",
    "    beta = np.matmul(np.matmul(np.linalg.inv(np.matmul(np.transpose(xtrain), xtrain)), \n",
    "                               np.transpose(xtrain)), ytrain)\n",
    "    return beta\n",
    "\n",
    "def multilinearNEWRegrPredict(xtrain, ytrain,xtest):\n",
    "    beta = multiLinparamEstimates(xtrain, ytrain)\n",
    "    print(beta)\n",
    "    intercept = np.ones((xtest.shape[0], 1))\n",
    "    xtest = np.concatenate((intercept, xtest), axis=1)\n",
    "    y_pred = np.matmul(xtest, beta)\n",
    "    return y_pred\n",
    "\n"
   ]
  },
  {
   "cell_type": "code",
   "execution_count": 6,
   "metadata": {},
   "outputs": [
    {
     "name": "stdout",
     "output_type": "stream",
     "text": [
      "(750, 2)\n",
      "(750, 3)\n",
      "[-2.02536054  0.08986326  0.92350445]\n",
      "[62.83017328 59.49560853 77.0173213  66.72878943 37.49598038 71.74588438\n",
      " 72.26981614 60.89330111 66.13986622 84.520092   67.06337067 62.17625862\n",
      " 83.59658754 79.40350979 67.62742207 47.9891106  41.99876756 89.7666571\n",
      " 68.1016102  44.07524663 87.29060535 57.67347144 55.19741969 89.85652037\n",
      " 66.27947311 73.68275655 70.66752521 52.56651322 61.22788235 78.35002244\n",
      " 96.47590624 62.47072022 50.19557256 63.84354099 65.71542171 74.65600463\n",
      " 65.15137032 46.4365633  66.88364414 68.84538813 52.72136794 83.9560406\n",
      " 96.54089769 63.30436141 61.1628909  73.68275655 54.3637785  96.86023111\n",
      " 72.42467086 74.90072261 68.82051631 52.87622265 48.88774323 72.46479049\n",
      " 63.18962633 66.58918254 65.87027643 95.61739324 62.02140391 64.29285731\n",
      " 97.15469272 63.59882302 69.6541575  62.38085696 78.68460368 86.4970838\n",
      " 62.83017328 60.174395   50.96422229 65.62555845 74.83573116 58.03292449\n",
      " 61.43248069 31.1461843  57.04442859 64.31772913 83.00766433 67.74215715\n",
      " 83.03253615 96.02658993 62.83017328 44.23010134 71.14171335 70.84725174\n",
      " 77.26203928 56.88957388 80.71133911 36.0982878  86.54682743 58.59697589\n",
      " 71.02697827 83.54684391 77.67123596 66.61405435 83.66157899 77.28691109\n",
      " 62.17625862 76.65786825 73.14357696 78.72472331 60.21451464 72.15508106\n",
      " 90.755153   83.93116878 76.65786825 68.16660165 69.5241746  55.55687274\n",
      " 55.08268461 65.6905499  61.90666883 55.28728295 69.29470444 74.33667121\n",
      " 78.1454241  64.47258384 89.79152892 69.29470444 70.73251666 47.56466609\n",
      " 45.21859724 95.37267526 82.19889496 58.77670242 54.15918015 48.64302526\n",
      " 67.62742207 63.54907939 82.19889496 64.04813934 77.54125306 52.36191488\n",
      " 81.16065543 82.37862149 62.76518183 69.02511465 58.89143749 75.48964582\n",
      " 53.14581244 98.77223147 51.50340188 69.62928568 80.71133911 41.84391285\n",
      " 67.03849885 62.98502799 70.73251666 55.01769316 48.37343547 41.31998109\n",
      " 46.34670003 75.464774   61.93154064 67.5375588  63.12463489 57.13429185\n",
      " 86.61181888 53.05594918 73.9122267  69.00024284 86.45696416 64.76704545\n",
      " 45.78264864 67.80714859 83.48185247 81.63484356 52.51676959 70.57766195\n",
      " 30.28767129 94.7187606  86.81641722 82.05928807 82.31363004 71.29656806\n",
      " 57.10942004 69.76889258 73.07858552 68.46106326 65.6905499  64.88178053\n",
      " 73.73250018 64.85690871 75.43990219 73.70762836 90.48556321 83.48185247\n",
      " 69.44955916 72.98872225 67.89701186 85.21412629 82.5334762  54.92782989\n",
      " 73.16844878 81.74957864 16.68944648 74.90072261 59.52048034 94.69388879\n",
      " 56.92969351 60.32924971 88.70354576 68.37119999 63.48408794 82.35374967\n",
      " 58.86656568 69.56429424 58.09791594 59.49560853 81.81457009 81.34038196\n",
      " 88.75328939 72.42467086 75.82422706 44.79415274 63.66381447 95.39754708\n",
      " 62.13613898 59.8799334  84.87954505 69.17996937 50.49003416 51.09420519\n",
      " 68.73065305 77.15692819 73.43803857 52.96608591 61.63707904 57.91818941\n",
      " 87.47033188 96.65563277 73.86248307 78.59474041 77.60624451 79.96756118\n",
      " 97.46440215 64.20299405 81.31551014 68.41131963 91.58879419 57.01955677\n",
      " 68.19147346 76.32328701 87.24086172 57.37900983 50.17070074 47.69464899\n",
      " 73.32330349 78.95419347 60.98316437 20.60331045]\n"
     ]
    }
   ],
   "source": [
    "y_pred1 = multilinearNEWRegrPredict(np.array(xtrain.values), np.array(ytrain.values).flatten(),\n",
    "                             np.array(xtest.values))\n",
    "print (y_pred1)\n",
    "# r2=r2_score(ytest, y_pred1)\n",
    "\n"
   ]
  },
  {
   "cell_type": "markdown",
   "metadata": {},
   "source": [
    "# Sum of Squared Residuals"
   ]
  },
  {
   "cell_type": "markdown",
   "metadata": {},
   "source": [
    "You are now asked to re-use the previous function in order to compute the SSR associated with the predictions delivered by your own or the library's implementation of multivariate linear regression."
   ]
  },
  {
   "cell_type": "code",
   "execution_count": 7,
   "metadata": {
    "pycharm": {
     "name": "#%%\n"
    },
    "scrolled": true
   },
   "outputs": [
    {
     "name": "stdout",
     "output_type": "stream",
     "text": [
      "Scikit-learn multivariate linear regression SSR: 4685.9382\n",
      "From scratch implementation of multivariate linear regression SSR: 4685.9382\n"
     ]
    }
   ],
   "source": [
    "def SSR( y_pred,yTest):\n",
    "    ssr=np.sum(np.multiply(np.subtract(yTest, y_pred),np.subtract(yTest, y_pred)))\n",
    "    return ssr\n",
    "\n",
    "y_pred_SSR = SSR(y_pred, np.array(ytest.values).flatten())\n",
    "#print(y_pred.shape)\n",
    "#print(np.array(ytest.values).flatten().shape)\n",
    "y_pred1_SSR = SSR(y_pred1, np.array(ytest.values).flatten())\n",
    "\n",
    "print(\"Scikit-learn multivariate linear regression SSR: %.4f\" % y_pred_SSR)\n",
    "print(\"From scratch implementation of multivariate linear regression SSR: %.4f\" % y_pred1_SSR)"
   ]
  },
  {
   "cell_type": "code",
   "execution_count": null,
   "metadata": {},
   "outputs": [],
   "source": []
  }
 ],
 "metadata": {
  "anaconda-cloud": {},
  "kernelspec": {
   "display_name": "Python 3",
   "language": "python",
   "name": "python3"
  },
  "language_info": {
   "codemirror_mode": {
    "name": "ipython",
    "version": 3
   },
   "file_extension": ".py",
   "mimetype": "text/x-python",
   "name": "python",
   "nbconvert_exporter": "python",
   "pygments_lexer": "ipython3",
   "version": "3.8.2"
  }
 },
 "nbformat": 4,
 "nbformat_minor": 1
}
